{
  "nbformat": 4,
  "nbformat_minor": 0,
  "metadata": {
    "colab": {
      "provenance": []
    },
    "kernelspec": {
      "name": "python3",
      "display_name": "Python 3"
    },
    "language_info": {
      "name": "python"
    }
  },
  "cells": [
    {
      "cell_type": "markdown",
      "source": [
        "# PYTHON OOPS"
      ],
      "metadata": {
        "id": "MjDHrRykBluj"
      }
    },
    {
      "cell_type": "markdown",
      "source": [
        "Q1. What is Object-Oriented Programming (OOP)?\n",
        "\n",
        "- Object-Oriented Programming (OOP) is a programming paradigm based on the concept of “objects.” These objects can contain data, in the form of fields (often called attributes or properties), and code, in the form of procedures (often called methods).\n",
        "OOP helps organize complex programs, makes code reusable, and enhances maintainability and scalability.\n",
        "\n",
        "Q2. What is a class in OOP?\n",
        "\n",
        " - In Object-Oriented Programming (OOP), a class is a blueprint or template for creating objects. It defines the properties (attributes) and behaviors (methods) that objects of that class will have. Think of it like a recipe for making a specific type of cookie; each cookie (object) will have the same ingredients (attributes) and be baked the same way (methods), but they might have slightly different flavors or sizes due to individual variations in those attributes.\n",
        "\n",
        "Q3. What is an object in OOP?\n",
        "\n",
        " - It is a basic unit of Object-Oriented Programming and represents the real-life entities. An Object is an instance of a Class. When a class is defined, no memory is allocated but when it is instantiated (i.e. an object is created) memory is allocated. An object has an identity, state, and behavior. Each object contains data and code to manipulate the data. Objects can interact without having to know details of each other’s data or code, it is sufficient to know the type of message accepted and type of response returned by the objects.\n",
        "\n",
        "Q4. What is the difference between abstraction and encapsulation?\n",
        "\n",
        " - **Abstraction**\n",
        "\n",
        " Hides implementation details, shows only essential features.\n",
        "\n",
        " Focuses on what an object does.\n",
        "\n",
        " Helps to reduce complexity.\n",
        "\n",
        " Achieved using: Abstract classes, Interfaces, Abstract methods\n",
        "\n",
        " Example: You can drive a car without knowing how the engine works.\n",
        "\n",
        " - **Encapsulation**\n",
        "\n",
        " Hides data by restricting direct access to it.\n",
        "\n",
        " Focuses on how the data is protected.\n",
        "\n",
        " Helps to protect data from unauthorized access.\n",
        "\n",
        " Achieved using: Private/protected variables, Getter and setter methods\n",
        "\n",
        " Example: A class has a private balance field, accessed only via get_balance().\n",
        "\n",
        "Q5. What are dunder methods in Python?\n",
        "\n",
        " - Dunder methods, also known as magic methods, are special methods in Python that begin and end with double underscores (e.g., __ inim  __ , __ str __ , __ len__). They allow objects of a class to interact with the Python language's built-in operations and syntax.\n",
        "\n",
        " Examples:\n",
        "\n",
        " __ init __(self, ...):  The constructor, called when an object is created.\n",
        "\n",
        " __ str__(self): Returns a string representation of the object, used by print() and str().\n",
        "\n",
        " __ repr__(self): Returns a string representation of the object, intended for debugging.\n",
        "\n",
        " __ len__(self): Returns the length of the object, used by len().\n",
        "\n",
        " __ getitem__(self, key): Enables indexing, such as my_object[key].\n",
        "\n",
        " __ add__(self, other): Defines addition behavior when using the + operator.\n",
        "\n",
        " __ eq__(self, other): Defines equality comparison when using the == operator.\n",
        "\n",
        " - **Why Use Dunder Methods?**\n",
        "\n",
        " To make your classes behave like built-in types.\n",
        "\n",
        " To enable operator overloading.\n",
        "\n",
        " To customize object behavior with built-in Python functions.\n",
        "\n",
        "Q6. Explain the concept of inheritance in OOP?\n",
        "\n",
        " - Inheritance is a fundamental concept in Object-Oriented Programming (OOP) that allows a class (called a child class or subclass) to inherit properties and behaviors (fields and methods) from another class (called a parent class or superclass).\n",
        "\n",
        " - **Why Use Inheritance?**\n",
        "\n",
        " Reusability: You don’t have to write the same code again—just inherit from an existing class.\n",
        "\n",
        " Extensibility: You can add or override features in the child class without changing the parent class.\n",
        "\n",
        " Hierarchy: It allows you to model real-world relationships (e.g., a Dog is a type of Animal).\n",
        "\n",
        "       class Animal:  # Parent class\n",
        "           def speak(self):\n",
        "              print(\"Animal speaks\")\n",
        "\n",
        "       class Dog(Animal):  # Child class\n",
        "           def bark(self):\n",
        "              print(\"Dog barks\")\n",
        "\n",
        "       dog = Dog()\n",
        "       dog.speak()  # Inherited method\n",
        "       dog.bark()   # Dog's own method\n",
        "\n",
        "\n",
        "Q7.  What is polymorphism in OOP?\n",
        "\n",
        " - Polymorphism is a core concept in Object-Oriented Programming (OOP) that allows objects of different classes to be treated as objects of a common superclass. It enables a single interface to represent different types of behavior.\n",
        "\n",
        " Types of Polymorphism\n",
        "1. Compile-Time Polymorphism (Static Polymorphism)\n",
        "\n",
        " Achieved using method overloading or operator overloading.\n",
        "\n",
        " The decision about which method to call is made at compile time.\n",
        "\n",
        "  2. Run-Time Polymorphism (Dynamic Polymorphism)\n",
        "\n",
        " Achieved using method overriding.\n",
        "\n",
        " The method to be called is determined at runtime, based on the object type.\n",
        "\n",
        "Q8.  How is encapsulation achieved in Python?\n",
        "\n",
        " - Using Access Modifiers:\n",
        "\n",
        " Public (variable): Accessible from anywhere.\n",
        "\n",
        " Protected (_variable): Intended for use within the class and its subclasses.\n",
        "\n",
        " Private (__variable): Name mangled to prevent direct access from outside the class.\n",
        "\n",
        " - Using Name Mangling:\n",
        "\n",
        " Private members are internally renamed (e.g., __ var becomes _ClassName__var) to discourage direct access.\n",
        "\n",
        " - Using Getter and Setter Methods:\n",
        "\n",
        " Access and modify private data through explicitly defined methods.\n",
        "\n",
        " Enables validation and logic when getting or setting values.\n",
        "\n",
        " - Using Property Decorators (Advanced):\n",
        "\n",
        " Python’s @property and @<name>.setter decorators provide a clean way to create getters and setters.\n",
        "\n",
        "Q9. What is a constructor in Python?\n",
        "\n",
        " - A constructor in Python is a special method within a class that is automatically called when an object of that class is created. Its primary purpose is to initialize the object's attributes (data members).\n",
        "Unlike some other programming languages like Java or C++, Python doesn't use the class name for its constructor. Instead, it utilizes the __init__() method. This method is automatically invoked when you create a new instance of a class.\n",
        "\n",
        "Q10.  What are class and static methods in Python?\n",
        "\n",
        "1. Class Method\n",
        "\n",
        " Declared using the @classmethod decorator.\n",
        "\n",
        " Takes cls (the class itself) as the first argument, not self.\n",
        "\n",
        " Can access or modify class-level data shared by all instances.\n",
        "\n",
        "       class MyClass:\n",
        "          count = 0\n",
        "\n",
        "           @classmethod\n",
        "           def show_count(cls):\n",
        "               print(f\"Total count: {cls.count}\")\n",
        "\n",
        "\n",
        "2. Static Method\n",
        "\n",
        " Declared using the @staticmethod decorator.\n",
        "\n",
        " Does not take self or cls as its first parameter.\n",
        "\n",
        " Cannot access or modify class or instance variables.\n",
        "\n",
        " Behaves like a regular function but lives in the class namespace.\n",
        "\n",
        "        class MyMath:\n",
        "        @staticmethod\n",
        "        def add(x, y):\n",
        "              return x + y\n",
        "\n",
        "\n",
        "Q11. What is method overloading in Python?\n",
        "\n",
        " - Method Overloading is a feature in Object-Oriented Programming where multiple methods in the same class have the same name but different parameters (number or type).\n",
        "However, Python does not support traditional method overloading like Java or C++. Instead, it handles overloading by using default arguments, *args, or **kwargs.\n",
        "            class Greet:\n",
        "                def hello(self, name=None):\n",
        "                    if name:\n",
        "                        print(\"Hello\", name)\n",
        "                    else:\n",
        "                        print(\"Hello\")\n",
        "\n",
        "            g = Greet()\n",
        "            g.hello()          # Output: Hello\n",
        "            g.hello(\"Alice\")   # Output: Hello Alice\n",
        "\n",
        "Q12. What is method overriding in OOP?\n",
        "\n",
        " - Method Overriding is an Object-Oriented Programming (OOP) concept where a child class provides a specific implementation of a method that is already defined in its parent class.\n",
        "\n",
        "  The method name, parameters, and return type must be the same.\n",
        "\n",
        " It allows the subclass to customize or extend the behavior of the superclass method.\n",
        "\n",
        "\n",
        "    class Animal:\n",
        "\n",
        "          def speak(self):\n",
        "\n",
        "                print(\"The animal makes a sound\")\n",
        "\n",
        "    class Dog(Animal):\n",
        "\n",
        "                 def speak(self):\n",
        "\n",
        "                 print(\"The dog barks\")\n",
        "\n",
        "            d = Dog()\n",
        "\n",
        "            d.speak()  # Output: The dog barks\n",
        "\n",
        "Q13. What is a property decorator in Python?\n",
        "\n",
        " - The @property decorator in Python is used to define getter methods in a clean and Pythonic way, allowing access to methods like attributes. It is part of Python’s built-in support for encapsulation.\n",
        "\n",
        " Purpose:\n",
        "\n",
        " To access a method like an attribute (without parentheses).\n",
        "\n",
        " To encapsulate attribute access logic (getters/setters).\n",
        "\n",
        " To control how attributes are retrieved, modified, or deleted.\n",
        "\n",
        "Q14. Why is polymorphism important in OOP?\n",
        "\n",
        " - Importance of Polymorphism in OOP:\n",
        "\n",
        " 1- **Code Reusability:**\n",
        "\n",
        "  Common code can work with different object types using the same interface.\n",
        "\n",
        "  You don’t need to rewrite functions for each class.\n",
        "\n",
        " 2- **Flexibility & Extensibility**\n",
        "\n",
        " You can easily add new classes without changing existing code.\n",
        "\n",
        " Makes it easier to scale applications.\n",
        "\n",
        " 3- **Simplified Code**\n",
        "\n",
        " Reduces if-else or switch statements for checking object types.\n",
        "\n",
        " Cleaner and more maintainable code.\n",
        "\n",
        " 4- **Supports Abstraction and Encapsulation**\n",
        "\n",
        " Focuses on what an object does, not how it does it.\n",
        "\n",
        " 5- **Enables Dynamic Method Dispatch (Runtime Polymorphism)**\n",
        "\n",
        " The correct method is selected at runtime, not compile time.\n",
        "\n",
        " Allows for more powerful and flexible behavior in large applications.\n",
        "\n",
        "\n",
        "Q15. What is an abstract class in Python?\n",
        "\n",
        " - In Python, an abstract class is a class that cannot be instantiated directly. It serves as a blueprint for other classes, defining a common interface that subclasses must adhere to. Abstract classes are created using the abc module and the ABC class as the base class.\n",
        "Abstract classes can contain abstract methods, which are methods declared in the abstract class but lack implementation. Subclasses of the abstract class are required to provide implementations for these abstract methods. If a subclass does not implement all abstract methods, it also becomes an abstract class.\n",
        "\n",
        "Q16. What are the advantages of OOP?\n",
        "\n",
        " - Advantages of OOP:\n",
        "\n",
        " 1- Modularity:\n",
        "\n",
        " Code is organized into classes and objects, making it easier to manage and understand.\n",
        "\n",
        " 2- Reusability:\n",
        "\n",
        " Classes can be reused in different programs or inherited by other classes.\n",
        "\n",
        " 3- Encapsulation:\n",
        "\n",
        " Internal details are hidden using access modifiers, exposing only necessary parts (e.g., via getters/setters).\n",
        "\n",
        " 4- Inheritance:\n",
        "\n",
        " Allows one class to use features of another, reducing code duplication and improving reuse.\n",
        "\n",
        " 5- Polymorphism:\n",
        "\n",
        " Same method name can behave differently for different classes, increasing flexibility.\n",
        "\n",
        " 6- Improved Maintainability:\n",
        "\n",
        " Since code is modular and organized, bugs are easier to find and fix.\n",
        "\n",
        " 7- Scalability:\n",
        "\n",
        " Programs built with OOP are easier to expand and scale as they grow.\n",
        "\n",
        " 8- Abstraction:\n",
        "\n",
        " Hides complex details and shows only essential features, making it easier to work with large systems.\n",
        "\n",
        " 9- Improved Collaboration:\n",
        "\n",
        " OOP structure allows multiple developers to work on different classes/modules without interfering with each other.\n",
        "\n",
        " 10- Real-World Modeling:\n",
        "\n",
        " OOP maps closely to real-world entities, making it easier to design and understand systems.\n",
        "\n",
        "Q17. What is the difference between a class variable and an instance variable?\n",
        "\n",
        "1. Class Variable:\n",
        "\n",
        " Shared across all instances of the class.\n",
        "\n",
        " Defined inside the class, but outside any method.\n",
        "\n",
        " Changing the value affects all instances (unless specifically overridden).\n",
        "\n",
        "       class Dog:\n",
        "            species = \"Canine\"  # Class variable\n",
        "\n",
        "             def __init__(self, name):\n",
        "                   self.name = name  # Instance variable\n",
        "\n",
        "       d1 = Dog(\"Buddy\")\n",
        "       d2 = Dog(\"Max\")\n",
        "\n",
        "       print(d1.species)  # Output: Canine\n",
        "       print(d2.species)  # Output: Canine\n",
        "2. Instance Variable:\n",
        "\n",
        " Unique to each object (instance).\n",
        "\n",
        " Defined using self inside methods (usually __init__()).\n",
        "\n",
        " Changing it affects only that specific instance.\n",
        "\n",
        "        d1.name = \"Charlie\"\n",
        "           print(d1.name)  # Charlie (changed only for d1)\n",
        "           print(d2.name)  # Max (still the same)\n",
        "\n",
        "Q18. What is multiple inheritance in Python?           \n",
        "\n",
        " - Multiple Inheritance is a feature in Python where a class can inherit from more than one parent class. This allows the child class to combine behaviors and features from multiple base classes.\n",
        "\n",
        "           class Father:\n",
        "                  def skill(self):\n",
        "                      print(\"Driving\")\n",
        "\n",
        "           class Mother:\n",
        "                  def hobby(self):\n",
        "                      print(\"Painting\")\n",
        "\n",
        "           class Child(Father, Mother):  # Inheriting from both\n",
        "                  pass\n",
        "\n",
        "           c = Child()\n",
        "           c.skill()    # Output: Driving\n",
        "           c.hobby()    # Output: Painting\n",
        "\n",
        "Q19. Explain the purpose of ‘’__ str__’ and ‘__ repr__’ ‘ methods in Python\n",
        "\n",
        " - __ str__() → For Human-Readable Output\n",
        "\n",
        " Called by print() and str()\n",
        "\n",
        " Should return a nicely formatted, user-friendly string\n",
        "\n",
        "  Used mainly for displaying information to end-users\n",
        "\n",
        "-   __ repr__() → For Developer/Debugging Output\n",
        "\n",
        " Called by repr() or when you inspect an object in the interpreter\n",
        "\n",
        " Should return a string that is unambiguous and ideally could be used to recreate the object\n",
        "\n",
        " Used mainly for debugging and logging.\n",
        "\n",
        "Q20.  What is the significance of the ‘super()’ function in Python?\n",
        "\n",
        " - The super() function in Python is used to call methods from a parent class in a child class, helping to reuse code and avoid duplication. It’s commonly used in constructors (__init__) to initialize parent class attributes. super() also respects the Method Resolution Order (MRO), making it especially useful in multiple inheritance. Overall, it makes code more readable, maintainable, and efficient.\n",
        "\n",
        "Q21. What is the significance of the __ del__ method in Python?\n",
        "\n",
        " - The __ del__ method in Python is a special method known as a destructor. It is called automatically when an object is about to be destroyed, typically when there are no more references to it. The main purpose of __del__ is to perform cleanup actions, such as closing files, releasing resources, or freeing memory before the object is deleted from memory.\n",
        "\n",
        "Q22. What is the difference between @staticmethod and @classmethod in Python?\n",
        "\n",
        "- @staticmethod:\n",
        "\n",
        " Does not take self or cls as the first argument.\n",
        "\n",
        " It behaves like a regular function, but belongs to the class’s namespace.\n",
        "\n",
        " Cannot access or modify class or instance state.\n",
        "\n",
        " Used for utility functions related to the class.\n",
        "\n",
        "- @classmethod\n",
        "\n",
        " Takes cls as the first argument, representing the class.\n",
        "\n",
        " Can access or modify class-level attributes or methods.\n",
        "\n",
        " Often used for factory methods that return class instances.\n",
        "\n",
        "Q23.  How does polymorphism work in Python with inheritance?\n",
        "\n",
        " - Polymorphism in Python with inheritance allows a child class to override methods of its parent class so that the same method call behaves differently depending on the object’s actual class. This means you can write code that works with objects of a parent class but automatically adapts to child class behaviors, enabling flexibility and extensibility.\n",
        " For example, if a parent class defines a method and multiple child classes override it with their own versions, calling that method on different objects will execute the appropriate child class method. Python uses dynamic (runtime) method dispatch to determine which method to call based on the object's type, not the variable’s declared type.\n",
        "\n",
        "Q24.  What is method chaining in Python OOP?\n",
        "\n",
        " - Method chaining in Python OOP is a technique where multiple method calls are linked together in a single statement, one after another. This is done by having each method return the object (self) itself, allowing you to call another method on the same object immediately.\n",
        "It makes the code more concise and readable, especially when you want to perform a sequence of operations on the same object.\n",
        "\n",
        "Q25.  What is the purpose of the __ call__ method in Python?\n",
        "\n",
        " - The __call__ method in Python allows an instance of a class to be called like a function. When you define __call__ inside a class, you can use the object itself with parentheses () as if it were a regular function, and the code inside __call__ will execute.\n",
        "This is useful for making objects behave like functions, enabling more flexible and expressive designs, such as creating callable objects that can maintain state or configuration.\n",
        "\n",
        "            class Multiplier:\n",
        "                def __init__(self, factor):\n",
        "                    self.factor = factor\n",
        "    \n",
        "                def __call__(self, x):\n",
        "                    return x * self.factor\n",
        "\n",
        "            m = Multiplier(5)\n",
        "            print(m(10))  # Output: 50\n"
      ],
      "metadata": {
        "id": "Rdgz8cpCB3rz"
      }
    },
    {
      "cell_type": "markdown",
      "source": [
        "# PRACTICAL QUESTIONS"
      ],
      "metadata": {
        "id": "GTeWkIfEpLIk"
      }
    },
    {
      "cell_type": "markdown",
      "source": [],
      "metadata": {
        "id": "MFOmzvoPByky"
      }
    },
    {
      "cell_type": "code",
      "source": [
        "# Q1.  Create a parent class Animal with a method speak() that prints a generic message. Create a child class Dog\n",
        "# that overrides the speak() method to print \"Bark!\".\n",
        "\n",
        "class Animal:\n",
        "    def speak(self):\n",
        "        print(\"Animal makes a sound\")\n",
        "\n",
        "class Dog(Animal):\n",
        "    def speak(self):\n",
        "        print(\"Bark!\")\n",
        "\n",
        "# Example usage:\n",
        "a = Animal()\n",
        "a.speak()\n",
        "\n",
        "d = Dog()\n",
        "d.speak()\n"
      ],
      "metadata": {
        "colab": {
          "base_uri": "https://localhost:8080/"
        },
        "id": "9z6VaHW7o_0c",
        "outputId": "400f454d-491f-4b8b-cf36-a37cbffe7b73"
      },
      "execution_count": null,
      "outputs": [
        {
          "output_type": "stream",
          "name": "stdout",
          "text": [
            "Animal makes a sound\n",
            "Bark!\n"
          ]
        }
      ]
    },
    {
      "cell_type": "code",
      "source": [
        "# Q2. Write a program to create an abstract class Shape with a method area(). Derive classes Circle and Rectangle\n",
        "# from it and implement the area() method in both.\n",
        "\n",
        "class Shape:\n",
        "    def area(self):\n",
        "        pass\n",
        "\n",
        "class Circle(Shape):\n",
        "    def __init__(self, radius):\n",
        "        self.radius = radius\n",
        "\n",
        "    def area(self):\n",
        "        return 3.14 * self.radius * self.radius\n",
        "\n",
        "class Rectangle(Shape):\n",
        "    def __init__(self, length, width):\n",
        "        self.length = length\n",
        "        self.width = width\n",
        "\n",
        "    def area(self):\n",
        "        return self.length * self.width\n",
        "\n",
        "c = Circle(5)\n",
        "print(\"Circle area:\", c.area())\n",
        "\n",
        "r = Rectangle(4, 6)\n",
        "print(\"Rectangle area:\", r.area())\n",
        "\n"
      ],
      "metadata": {
        "colab": {
          "base_uri": "https://localhost:8080/"
        },
        "id": "s03XrNiyp2MU",
        "outputId": "2ad0e0f4-150f-418b-f98c-fee9bd412903"
      },
      "execution_count": null,
      "outputs": [
        {
          "output_type": "stream",
          "name": "stdout",
          "text": [
            "Circle area: 78.5\n",
            "Rectangle area: 24\n"
          ]
        }
      ]
    },
    {
      "cell_type": "code",
      "source": [
        "# Q3.  Implement a multi-level inheritance scenario where a class Vehicle has an attribute type. Derive a class Car\n",
        "# and further derive a class ElectricCar that adds a battery attribute.\n",
        "\n",
        "class Vehicle:\n",
        "    def __init__(self, vehicle_type):\n",
        "        self.type = vehicle_type\n",
        "\n",
        "class Car(Vehicle):\n",
        "    def __init__(self, vehicle_type, brand):\n",
        "        super().__init__(vehicle_type)\n",
        "        self.brand = brand\n",
        "\n",
        "class ElectricCar(Car):\n",
        "    def __init__(self, vehicle_type, brand, battery):\n",
        "        super().__init__(vehicle_type, brand)\n",
        "        self.battery = battery\n",
        "\n",
        "e_car = ElectricCar(\"Car\", \"Tesla\", \"100 kWh\")\n",
        "print(f\"Type: {e_car.type}\")\n",
        "print(f\"Brand: {e_car.brand}\")\n",
        "print(f\"Battery: {e_car.battery}\")\n"
      ],
      "metadata": {
        "colab": {
          "base_uri": "https://localhost:8080/"
        },
        "id": "OO3xenxequfF",
        "outputId": "fab6306c-e18d-428b-a6d8-5b8f0d6f4669"
      },
      "execution_count": null,
      "outputs": [
        {
          "output_type": "stream",
          "name": "stdout",
          "text": [
            "Type: Car\n",
            "Brand: Tesla\n",
            "Battery: 100 kWh\n"
          ]
        }
      ]
    },
    {
      "cell_type": "code",
      "source": [
        "# Q4. Demonstrate polymorphism by creating a base class Bird with a method fly(). Create two derived classes\n",
        "# Sparrow and Penguin that override the fly() method.\n",
        "\n",
        "class Bird:\n",
        "    def fly(self):\n",
        "        print(\"Bird can fly\")\n",
        "\n",
        "class Sparrow(Bird):\n",
        "    def fly(self):\n",
        "        print(\"Sparrow flies high\")\n",
        "\n",
        "class Penguin(Bird):\n",
        "    def fly(self):\n",
        "        print(\"Penguin cannot fly\")\n",
        "\n",
        "birds = [Sparrow(), Penguin()]\n",
        "\n",
        "for bird in birds:\n",
        "    bird.fly()\n"
      ],
      "metadata": {
        "colab": {
          "base_uri": "https://localhost:8080/"
        },
        "id": "3U1JSTVfrZkg",
        "outputId": "2a25aab8-89f6-4327-e872-fd86fe7b0b81"
      },
      "execution_count": null,
      "outputs": [
        {
          "output_type": "stream",
          "name": "stdout",
          "text": [
            "Sparrow flies high\n",
            "Penguin cannot fly\n"
          ]
        }
      ]
    },
    {
      "cell_type": "code",
      "source": [
        "# Q5.  Write a program to demonstrate encapsulation by creating a class BankAccount with private attributes\n",
        "#  balance and methods to deposit, withdraw, and check balance.\n",
        "\n",
        "class BankAccount:\n",
        "    def __init__(self, initial_balance):\n",
        "        self.__balance = initial_balance\n",
        "\n",
        "    def deposit(self, amount):\n",
        "        if amount > 0:\n",
        "            self.__balance += amount\n",
        "            print(f\"Deposited: {amount}\")\n",
        "        else:\n",
        "            print(\"Invalid deposit amount\")\n",
        "\n",
        "    def withdraw(self, amount):\n",
        "        if 0 < amount <= self.__balance:\n",
        "            self.__balance -= amount\n",
        "            print(f\"Withdrew: {amount}\")\n",
        "        else:\n",
        "            print(\"Insufficient balance or invalid amount\")\n",
        "\n",
        "    def check_balance(self):\n",
        "        print(f\"Balance: {self.__balance}\")\n",
        "\n",
        "account = BankAccount(1000)\n",
        "account.deposit(500)\n",
        "account.withdraw(200)\n",
        "account.check_balance()\n"
      ],
      "metadata": {
        "colab": {
          "base_uri": "https://localhost:8080/"
        },
        "id": "kDrC4F8qsBc6",
        "outputId": "f2344b0d-9d4d-459f-9739-c7bf2528ba12"
      },
      "execution_count": null,
      "outputs": [
        {
          "output_type": "stream",
          "name": "stdout",
          "text": [
            "Deposited: 500\n",
            "Withdrew: 200\n",
            "Balance: 1300\n"
          ]
        }
      ]
    },
    {
      "cell_type": "code",
      "source": [
        "# Q6. Demonstrate runtime polymorphism using a method play() in a base class Instrument. Derive classes Guitar\n",
        "#  and Piano that implement their own version of play().\n",
        "\n",
        "class Instrument:\n",
        "    def play(self):\n",
        "        print(\"The instrument is playing.\")\n",
        "\n",
        "class Guitar(Instrument):\n",
        "    def play(self):\n",
        "        print(\"The guitar is strumming.\")\n",
        "\n",
        "class Piano(Instrument):\n",
        "    def play(self):\n",
        "        print(\"The piano is playing chords.\")\n",
        "\n",
        "def perform_play(instrument):\n",
        "    instrument.play()\n",
        "\n",
        "guitar = Guitar()\n",
        "piano = Piano()\n",
        "\n",
        "perform_play(guitar)\n",
        "perform_play(piano)"
      ],
      "metadata": {
        "colab": {
          "base_uri": "https://localhost:8080/"
        },
        "id": "ciAJa1iPCH-b",
        "outputId": "e7dc1d61-3f2a-424e-aa8c-10a391873716"
      },
      "execution_count": 1,
      "outputs": [
        {
          "output_type": "stream",
          "name": "stdout",
          "text": [
            "The guitar is strumming.\n",
            "The piano is playing chords.\n"
          ]
        }
      ]
    },
    {
      "cell_type": "code",
      "source": [
        "# Q7. Create a class MathOperations with a class method add_numbers() to add two numbers and a static\n",
        "#  method subtract_numbers() to subtract two numbers.\n",
        "\n",
        "class MathOperations:\n",
        "    @classmethod\n",
        "    def add_numbers(cls, a, b):\n",
        "        return a + b\n",
        "\n",
        "    @staticmethod\n",
        "    def subtract_numbers(a, b):\n",
        "        return a - b\n",
        "\n",
        "# Using class method\n",
        "sum_result = MathOperations.add_numbers(5, 3)\n",
        "print(\"Sum:\", sum_result)\n",
        "\n",
        "# Using static method\n",
        "difference = MathOperations.subtract_numbers(5, 3)\n",
        "print(\"Difference:\", difference)\n"
      ],
      "metadata": {
        "colab": {
          "base_uri": "https://localhost:8080/"
        },
        "id": "jKJm9BVlEPFF",
        "outputId": "a55b80b1-0dbd-47dd-b004-be41523e4df1"
      },
      "execution_count": 2,
      "outputs": [
        {
          "output_type": "stream",
          "name": "stdout",
          "text": [
            "Sum: 8\n",
            "Difference: 2\n"
          ]
        }
      ]
    },
    {
      "cell_type": "code",
      "source": [
        "# Q8.  Implement a class Person with a class method to count the total number of persons created.\n",
        "\n",
        "class Person:\n",
        "    count = 0\n",
        "\n",
        "    def __init__(self, name):\n",
        "        self.name = name\n",
        "        Person.count += 1\n",
        "\n",
        "    @classmethod\n",
        "    def get_person_count(cls):\n",
        "        return cls.count\n",
        "\n",
        "p1 = Person(\"Alice\")\n",
        "p2 = Person(\"Bob\")\n",
        "p3 = Person(\"Charlie\")\n",
        "\n",
        "print(\"Total persons created:\", Person.get_person_count())\n"
      ],
      "metadata": {
        "colab": {
          "base_uri": "https://localhost:8080/"
        },
        "id": "FXkD7gc-FPDf",
        "outputId": "81686e45-7145-4076-98f4-0e5a56275eb6"
      },
      "execution_count": 3,
      "outputs": [
        {
          "output_type": "stream",
          "name": "stdout",
          "text": [
            "Total persons created: 3\n"
          ]
        }
      ]
    },
    {
      "cell_type": "code",
      "source": [
        "# Q9. 9. Write a class Fraction with attributes numerator and denominator. Override the str method to display the\n",
        "#  fraction as \"numerator/denominator\".\n",
        "\n",
        "class Fraction:\n",
        "    def __init__(self, numerator, denominator):\n",
        "        self.numerator = numerator\n",
        "        self.denominator = denominator\n",
        "\n",
        "    def __str__(self):\n",
        "        return f\"{self.numerator}/{self.denominator}\"\n",
        "\n",
        "f = Fraction(3, 4)\n",
        "print(f)\n"
      ],
      "metadata": {
        "colab": {
          "base_uri": "https://localhost:8080/"
        },
        "id": "2XlZ-aKmF2Lc",
        "outputId": "d84bffe6-6e82-4bef-b273-6853e9146f26"
      },
      "execution_count": 4,
      "outputs": [
        {
          "output_type": "stream",
          "name": "stdout",
          "text": [
            "3/4\n"
          ]
        }
      ]
    },
    {
      "cell_type": "code",
      "source": [
        "# Q10. Demonstrate operator overloading by creating a class Vector and overriding the add method to add two vectors.\n",
        "\n",
        "class Vector:\n",
        "    def __init__(self, x, y):\n",
        "        self.x = x\n",
        "        self.y = y\n",
        "\n",
        "    def __add__(self, other):\n",
        "        return Vector(self.x + other.x, self.y + other.y)\n",
        "\n",
        "    def __str__(self):\n",
        "        return f\"({self.x}, {self.y})\"\n",
        "\n",
        "v1 = Vector(2, 3)\n",
        "v2 = Vector(4, 5)\n",
        "v3 = v1 + v2\n",
        "\n",
        "print(\"v1 + v2 =\", v3)\n",
        "\n"
      ],
      "metadata": {
        "colab": {
          "base_uri": "https://localhost:8080/"
        },
        "id": "ztIOAEIgGpup",
        "outputId": "97af94c1-3791-49d6-b252-5ac9faf78bfe"
      },
      "execution_count": 5,
      "outputs": [
        {
          "output_type": "stream",
          "name": "stdout",
          "text": [
            "v1 + v2 = (6, 8)\n"
          ]
        }
      ]
    },
    {
      "cell_type": "code",
      "source": [
        "# Q11. Create a class Person with attributes name and age. Add a method greet() that prints \"Hello, my name is {name} and I am {age} years old.\"\n",
        "\n",
        "class Person:\n",
        "    def __init__(self, name, age):\n",
        "        self.name = name\n",
        "        self.age = age\n",
        "\n",
        "    def greet(self):\n",
        "        print(f\"Hello, my name is {self.name} and I am {self.age} years old.\")\n",
        "\n",
        "p = Person(\"Alice\", 25)\n",
        "p.greet()\n"
      ],
      "metadata": {
        "colab": {
          "base_uri": "https://localhost:8080/"
        },
        "id": "r6l4-2dxHZPB",
        "outputId": "c0b7cef5-e902-4cea-f3fe-7ad95412ff35"
      },
      "execution_count": 6,
      "outputs": [
        {
          "output_type": "stream",
          "name": "stdout",
          "text": [
            "Hello, my name is Alice and I am 25 years old.\n"
          ]
        }
      ]
    },
    {
      "cell_type": "code",
      "source": [
        "# Q12.  Implement a class Student with attributes name and grades. Create a method average_grade() to compute  the average of the grades.\n",
        "\n",
        "class Student:\n",
        "    def __init__(self, name, grades):\n",
        "        self.name = name\n",
        "        self.grades = grades\n",
        "\n",
        "    def average_grade(self):\n",
        "        if self.grades:\n",
        "            return sum(self.grades) / len(self.grades)\n",
        "        else:\n",
        "            return 0\n",
        "\n",
        "s = Student(\"John\", [85, 90, 78, 92])\n",
        "print(f\"{s.name}'s average grade is:\", s.average_grade())\n"
      ],
      "metadata": {
        "colab": {
          "base_uri": "https://localhost:8080/"
        },
        "id": "tg_M0hpIIHF2",
        "outputId": "23c9c71f-143b-412e-fe12-5cec3c460438"
      },
      "execution_count": 7,
      "outputs": [
        {
          "output_type": "stream",
          "name": "stdout",
          "text": [
            "John's average grade is: 86.25\n"
          ]
        }
      ]
    },
    {
      "cell_type": "code",
      "source": [
        "# Q13. Create a class Rectangle with methods set_dimensions() to set the dimensions and area() to calculate the area.\n",
        "\n",
        "class Rectangle:\n",
        "    def __init__(self):\n",
        "        self.length = 0\n",
        "        self.width = 0\n",
        "\n",
        "    def set_dimensions(self, length, width):\n",
        "        self.length = length\n",
        "        self.width = width\n",
        "\n",
        "    def area(self):\n",
        "        return self.length * self.width\n",
        "\n",
        "rect = Rectangle()\n",
        "rect.set_dimensions(5, 3)\n",
        "print(\"Area of rectangle:\", rect.area())\n"
      ],
      "metadata": {
        "colab": {
          "base_uri": "https://localhost:8080/"
        },
        "id": "bcnBctOQJxYm",
        "outputId": "714e1960-6cba-4f23-955d-d2167bad144e"
      },
      "execution_count": 8,
      "outputs": [
        {
          "output_type": "stream",
          "name": "stdout",
          "text": [
            "Area of rectangle: 15\n"
          ]
        }
      ]
    },
    {
      "cell_type": "code",
      "source": [
        "# Q14. Create a class Employee with a method calculate_salary() that computes the salary based on hours worked and hourly rate. Create a derived class Manager that adds a bonus to the salary\n",
        "\n",
        "class Employee:\n",
        "    def __init__(self, hours_worked, hourly_rate):\n",
        "        self.hours_worked = hours_worked\n",
        "        self.hourly_rate = hourly_rate\n",
        "\n",
        "    def calculate_salary(self):\n",
        "        return self.hours_worked * self.hourly_rate\n",
        "\n",
        "class Manager(Employee):\n",
        "    def __init__(self, hours_worked, hourly_rate, bonus):\n",
        "        super().__init__(hours_worked, hourly_rate)\n",
        "        self.bonus = bonus\n",
        "\n",
        "    def calculate_salary(self):\n",
        "        base_salary = super().calculate_salary()\n",
        "        return base_salary + self.bonus\n",
        "\n",
        "emp = Employee(40, 20)\n",
        "print(\"Employee salary:\", emp.calculate_salary())\n",
        "\n",
        "mgr = Manager(40, 30, 500)\n",
        "print(\"Manager salary:\", mgr.calculate_salary())\n"
      ],
      "metadata": {
        "colab": {
          "base_uri": "https://localhost:8080/"
        },
        "id": "7qogtTD7KjB8",
        "outputId": "4cb64346-df40-427c-9271-e1f2dc56bef9"
      },
      "execution_count": 9,
      "outputs": [
        {
          "output_type": "stream",
          "name": "stdout",
          "text": [
            "Employee salary: 800\n",
            "Manager salary: 1700\n"
          ]
        }
      ]
    },
    {
      "cell_type": "code",
      "source": [
        "# Q15. Create a class Product with attributes name, price, and quantity. Implement a method total_price() that calculates the total price of the product.\n",
        "\n",
        "class Product:\n",
        "    def __init__(self, name, price, quantity):\n",
        "        self.name = name\n",
        "        self.price = price\n",
        "        self.quantity = quantity\n",
        "\n",
        "    def total_price(self):\n",
        "        return self.price * self.quantity\n",
        "\n",
        "p = Product(\"Laptop\", 800, 3)\n",
        "print(f\"Total price for {p.quantity} {p.name}s is:\", p.total_price())\n",
        "\n"
      ],
      "metadata": {
        "colab": {
          "base_uri": "https://localhost:8080/"
        },
        "id": "SVj9Xog9Ln-n",
        "outputId": "bdf28427-830c-4c71-c864-c3901ab8dab5"
      },
      "execution_count": 10,
      "outputs": [
        {
          "output_type": "stream",
          "name": "stdout",
          "text": [
            "Total price for 3 Laptops is: 2400\n"
          ]
        }
      ]
    },
    {
      "cell_type": "code",
      "source": [
        "# Q16. Create a class Animal with an abstract method sound(). Create two derived classes Cow and Sheep that implement the sound() method.\n",
        "\n",
        "from abc import ABC, abstractmethod\n",
        "\n",
        "class Animal(ABC):\n",
        "    @abstractmethod\n",
        "    def sound(self):\n",
        "        pass\n",
        "\n",
        "class Cow(Animal):\n",
        "    def sound(self):\n",
        "        print(\"Moo\")\n",
        "\n",
        "class Sheep(Animal):\n",
        "    def sound(self):\n",
        "        print(\"Baa\")\n",
        "\n",
        "cow = Cow()\n",
        "sheep = Sheep()\n",
        "\n",
        "cow.sound()\n",
        "sheep.sound()\n",
        "\n"
      ],
      "metadata": {
        "colab": {
          "base_uri": "https://localhost:8080/"
        },
        "id": "R5ieu-VlMHmy",
        "outputId": "93fdf831-bc6f-4b97-964a-06a455480004"
      },
      "execution_count": 11,
      "outputs": [
        {
          "output_type": "stream",
          "name": "stdout",
          "text": [
            "Moo\n",
            "Baa\n"
          ]
        }
      ]
    },
    {
      "cell_type": "code",
      "source": [
        "# Q17.  Create a class Book with attributes title, author, and year_published. Add a method get_book_info() that returns a formatted string with the book's details.\n",
        "\n",
        "class Book:\n",
        "    def __init__(self, title, author, year_published):\n",
        "        self.title = title\n",
        "        self.author = author\n",
        "        self.year_published = year_published\n",
        "\n",
        "    def get_book_info(self):\n",
        "        return f\"'{self.title}' by {self.author}, published in {self.year_published}\"\n",
        "\n",
        "book = Book(\"To Kill a Mockingbird\", \"Harper Lee\", 1960)\n",
        "print(book.get_book_info())\n"
      ],
      "metadata": {
        "colab": {
          "base_uri": "https://localhost:8080/"
        },
        "id": "zsAv8fvgNP1w",
        "outputId": "2e0b4a08-383b-4ed2-80bf-591e18d6d242"
      },
      "execution_count": 12,
      "outputs": [
        {
          "output_type": "stream",
          "name": "stdout",
          "text": [
            "'To Kill a Mockingbird' by Harper Lee, published in 1960\n"
          ]
        }
      ]
    },
    {
      "cell_type": "code",
      "source": [
        "# Q18.  Create a class House with attributes address and price. Create a derived class Mansion that adds an attribute number_of_rooms.\n",
        "\n",
        "class House:\n",
        "    def __init__(self, address, price):\n",
        "        self.address = address\n",
        "        self.price = price\n",
        "\n",
        "class Mansion(House):\n",
        "    def __init__(self, address, price, number_of_rooms):\n",
        "        super().__init__(address, price)\n",
        "        self.number_of_rooms = number_of_rooms\n",
        "\n",
        "house = House(\"123 MDDA\", 250000)\n",
        "mansion = Mansion(\"456 defence colony\", 1500000, 10)\n",
        "\n",
        "print(f\"House: {house.address}, Price: ${house.price}\")\n",
        "print(f\"Mansion: {mansion.address}, Price: ${mansion.price}, Rooms: {mansion.number_of_rooms}\")\n"
      ],
      "metadata": {
        "colab": {
          "base_uri": "https://localhost:8080/"
        },
        "id": "lIyWsSIdN_Fy",
        "outputId": "bcc669b1-c9d7-41d6-99b6-950b259cbb44"
      },
      "execution_count": 14,
      "outputs": [
        {
          "output_type": "stream",
          "name": "stdout",
          "text": [
            "House: 123 MDDA, Price: $250000\n",
            "Mansion: 456 defence colony, Price: $1500000, Rooms: 10\n"
          ]
        }
      ]
    },
    {
      "cell_type": "code",
      "source": [],
      "metadata": {
        "id": "nVmrtVqHOyrC"
      },
      "execution_count": null,
      "outputs": []
    }
  ]
}